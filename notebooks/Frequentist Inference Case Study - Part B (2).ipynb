{
 "cells": [
  {
   "cell_type": "markdown",
   "metadata": {},
   "source": [
    "# Frequentist Inference Case Study - Part B"
   ]
  },
  {
   "cell_type": "markdown",
   "metadata": {},
   "source": [
    "## Learning objectives"
   ]
  },
  {
   "cell_type": "markdown",
   "metadata": {},
   "source": [
    "Welcome to Part B of the Frequentist inference case study! The purpose of this case study is to help you apply the concepts associated with Frequentist inference in Python. In particular, you'll practice writing Python code to apply the following statistical concepts: \n",
    "* the _z_-statistic\n",
    "* the _t_-statistic\n",
    "* the difference and relationship between the two\n",
    "* the Central Limit Theorem, including its assumptions and consequences\n",
    "* how to estimate the population mean and standard deviation from a sample\n",
    "* the concept of a sampling distribution of a test statistic, particularly for the mean\n",
    "* how to combine these concepts to calculate a confidence interval"
   ]
  },
  {
   "cell_type": "markdown",
   "metadata": {},
   "source": [
    "In the previous notebook, we used only data from a known normal distribution. **You'll now tackle real data, rather than simulated data, and answer some relevant real-world business problems using the data.**"
   ]
  },
  {
   "cell_type": "markdown",
   "metadata": {},
   "source": [
    "## Hospital medical charges"
   ]
  },
  {
   "cell_type": "markdown",
   "metadata": {},
   "source": [
    "Imagine that a hospital has hired you as their data scientist. An administrator is working on the hospital's business operations plan and needs you to help them answer some business questions. \n",
    "\n",
    "In this assignment notebook, you're going to use frequentist statistical inference on a data sample to answer the questions:\n",
    "* has the hospital's revenue stream fallen below a key threshold?\n",
    "* are patients with insurance really charged different amounts than those without?\n",
    "\n",
    "Answering that last question with a frequentist approach makes some assumptions, and requires some knowledge, about the two groups."
   ]
  },
  {
   "cell_type": "markdown",
   "metadata": {},
   "source": [
    "We are going to use some data on medical charges obtained from [Kaggle](https://www.kaggle.com/easonlai/sample-insurance-claim-prediction-dataset). \n",
    "\n",
    "For the purposes of this exercise, assume the observations are the result of random sampling from our single hospital. Recall that in the previous assignment, we introduced the Central Limit Theorem (CLT), and its consequence that the distributions of sample statistics approach a normal distribution as $n$ increases. The amazing thing about this is that it applies to the sampling distributions of statistics that have been calculated from even highly non-normal distributions of data! Recall, also, that hypothesis testing is very much based on making inferences about such sample statistics. You're going to rely heavily on the CLT to apply frequentist (parametric) tests to answer the questions in this notebook."
   ]
  },
  {
   "cell_type": "code",
   "metadata": {
    "ExecuteTime": {
     "end_time": "2024-12-27T17:52:11.905461Z",
     "start_time": "2024-12-27T17:52:11.898411Z"
    }
   },
   "source": [
    "import pandas as pd\n",
    "import numpy as np\n",
    "import matplotlib.pyplot as plt\n",
    "from scipy.stats import t\n",
    "import scipy.stats as stats\n",
    "from numpy.random import seed\n",
    "medical = pd.read_csv('../data/insurance2.csv')"
   ],
   "outputs": [],
   "execution_count": 2
  },
  {
   "metadata": {
    "ExecuteTime": {
     "end_time": "2024-12-27T17:52:16.647785Z",
     "start_time": "2024-12-27T17:52:16.632494Z"
    }
   },
   "cell_type": "code",
   "source": "medical\n",
   "outputs": [
    {
     "data": {
      "text/plain": [
       "      age  sex     bmi  children  smoker  region      charges  insuranceclaim\n",
       "0      19    0  27.900         0       1       3  16884.92400               1\n",
       "1      18    1  33.770         1       0       2   1725.55230               1\n",
       "2      28    1  33.000         3       0       2   4449.46200               0\n",
       "3      33    1  22.705         0       0       1  21984.47061               0\n",
       "4      32    1  28.880         0       0       1   3866.85520               1\n",
       "...   ...  ...     ...       ...     ...     ...          ...             ...\n",
       "1333   50    1  30.970         3       0       1  10600.54830               0\n",
       "1334   18    0  31.920         0       0       0   2205.98080               1\n",
       "1335   18    0  36.850         0       0       2   1629.83350               1\n",
       "1336   21    0  25.800         0       0       3   2007.94500               0\n",
       "1337   61    0  29.070         0       1       1  29141.36030               1\n",
       "\n",
       "[1338 rows x 8 columns]"
      ],
      "text/html": [
       "<div>\n",
       "<style scoped>\n",
       "    .dataframe tbody tr th:only-of-type {\n",
       "        vertical-align: middle;\n",
       "    }\n",
       "\n",
       "    .dataframe tbody tr th {\n",
       "        vertical-align: top;\n",
       "    }\n",
       "\n",
       "    .dataframe thead th {\n",
       "        text-align: right;\n",
       "    }\n",
       "</style>\n",
       "<table border=\"1\" class=\"dataframe\">\n",
       "  <thead>\n",
       "    <tr style=\"text-align: right;\">\n",
       "      <th></th>\n",
       "      <th>age</th>\n",
       "      <th>sex</th>\n",
       "      <th>bmi</th>\n",
       "      <th>children</th>\n",
       "      <th>smoker</th>\n",
       "      <th>region</th>\n",
       "      <th>charges</th>\n",
       "      <th>insuranceclaim</th>\n",
       "    </tr>\n",
       "  </thead>\n",
       "  <tbody>\n",
       "    <tr>\n",
       "      <th>0</th>\n",
       "      <td>19</td>\n",
       "      <td>0</td>\n",
       "      <td>27.900</td>\n",
       "      <td>0</td>\n",
       "      <td>1</td>\n",
       "      <td>3</td>\n",
       "      <td>16884.92400</td>\n",
       "      <td>1</td>\n",
       "    </tr>\n",
       "    <tr>\n",
       "      <th>1</th>\n",
       "      <td>18</td>\n",
       "      <td>1</td>\n",
       "      <td>33.770</td>\n",
       "      <td>1</td>\n",
       "      <td>0</td>\n",
       "      <td>2</td>\n",
       "      <td>1725.55230</td>\n",
       "      <td>1</td>\n",
       "    </tr>\n",
       "    <tr>\n",
       "      <th>2</th>\n",
       "      <td>28</td>\n",
       "      <td>1</td>\n",
       "      <td>33.000</td>\n",
       "      <td>3</td>\n",
       "      <td>0</td>\n",
       "      <td>2</td>\n",
       "      <td>4449.46200</td>\n",
       "      <td>0</td>\n",
       "    </tr>\n",
       "    <tr>\n",
       "      <th>3</th>\n",
       "      <td>33</td>\n",
       "      <td>1</td>\n",
       "      <td>22.705</td>\n",
       "      <td>0</td>\n",
       "      <td>0</td>\n",
       "      <td>1</td>\n",
       "      <td>21984.47061</td>\n",
       "      <td>0</td>\n",
       "    </tr>\n",
       "    <tr>\n",
       "      <th>4</th>\n",
       "      <td>32</td>\n",
       "      <td>1</td>\n",
       "      <td>28.880</td>\n",
       "      <td>0</td>\n",
       "      <td>0</td>\n",
       "      <td>1</td>\n",
       "      <td>3866.85520</td>\n",
       "      <td>1</td>\n",
       "    </tr>\n",
       "    <tr>\n",
       "      <th>...</th>\n",
       "      <td>...</td>\n",
       "      <td>...</td>\n",
       "      <td>...</td>\n",
       "      <td>...</td>\n",
       "      <td>...</td>\n",
       "      <td>...</td>\n",
       "      <td>...</td>\n",
       "      <td>...</td>\n",
       "    </tr>\n",
       "    <tr>\n",
       "      <th>1333</th>\n",
       "      <td>50</td>\n",
       "      <td>1</td>\n",
       "      <td>30.970</td>\n",
       "      <td>3</td>\n",
       "      <td>0</td>\n",
       "      <td>1</td>\n",
       "      <td>10600.54830</td>\n",
       "      <td>0</td>\n",
       "    </tr>\n",
       "    <tr>\n",
       "      <th>1334</th>\n",
       "      <td>18</td>\n",
       "      <td>0</td>\n",
       "      <td>31.920</td>\n",
       "      <td>0</td>\n",
       "      <td>0</td>\n",
       "      <td>0</td>\n",
       "      <td>2205.98080</td>\n",
       "      <td>1</td>\n",
       "    </tr>\n",
       "    <tr>\n",
       "      <th>1335</th>\n",
       "      <td>18</td>\n",
       "      <td>0</td>\n",
       "      <td>36.850</td>\n",
       "      <td>0</td>\n",
       "      <td>0</td>\n",
       "      <td>2</td>\n",
       "      <td>1629.83350</td>\n",
       "      <td>1</td>\n",
       "    </tr>\n",
       "    <tr>\n",
       "      <th>1336</th>\n",
       "      <td>21</td>\n",
       "      <td>0</td>\n",
       "      <td>25.800</td>\n",
       "      <td>0</td>\n",
       "      <td>0</td>\n",
       "      <td>3</td>\n",
       "      <td>2007.94500</td>\n",
       "      <td>0</td>\n",
       "    </tr>\n",
       "    <tr>\n",
       "      <th>1337</th>\n",
       "      <td>61</td>\n",
       "      <td>0</td>\n",
       "      <td>29.070</td>\n",
       "      <td>0</td>\n",
       "      <td>1</td>\n",
       "      <td>1</td>\n",
       "      <td>29141.36030</td>\n",
       "      <td>1</td>\n",
       "    </tr>\n",
       "  </tbody>\n",
       "</table>\n",
       "<p>1338 rows × 8 columns</p>\n",
       "</div>"
      ]
     },
     "execution_count": 3,
     "metadata": {},
     "output_type": "execute_result"
    }
   ],
   "execution_count": 3
  },
  {
   "cell_type": "code",
   "metadata": {
    "ExecuteTime": {
     "end_time": "2024-12-27T17:52:45.228244Z",
     "start_time": "2024-12-27T17:52:45.223741Z"
    }
   },
   "source": [
    "medical.shape"
   ],
   "outputs": [
    {
     "data": {
      "text/plain": [
       "(1338, 8)"
      ]
     },
     "execution_count": 4,
     "metadata": {},
     "output_type": "execute_result"
    }
   ],
   "execution_count": 4
  },
  {
   "cell_type": "code",
   "metadata": {
    "ExecuteTime": {
     "end_time": "2024-12-27T17:52:47.046104Z",
     "start_time": "2024-12-27T17:52:47.038554Z"
    }
   },
   "source": [
    "medical.head()"
   ],
   "outputs": [
    {
     "data": {
      "text/plain": [
       "   age  sex     bmi  children  smoker  region      charges  insuranceclaim\n",
       "0   19    0  27.900         0       1       3  16884.92400               1\n",
       "1   18    1  33.770         1       0       2   1725.55230               1\n",
       "2   28    1  33.000         3       0       2   4449.46200               0\n",
       "3   33    1  22.705         0       0       1  21984.47061               0\n",
       "4   32    1  28.880         0       0       1   3866.85520               1"
      ],
      "text/html": [
       "<div>\n",
       "<style scoped>\n",
       "    .dataframe tbody tr th:only-of-type {\n",
       "        vertical-align: middle;\n",
       "    }\n",
       "\n",
       "    .dataframe tbody tr th {\n",
       "        vertical-align: top;\n",
       "    }\n",
       "\n",
       "    .dataframe thead th {\n",
       "        text-align: right;\n",
       "    }\n",
       "</style>\n",
       "<table border=\"1\" class=\"dataframe\">\n",
       "  <thead>\n",
       "    <tr style=\"text-align: right;\">\n",
       "      <th></th>\n",
       "      <th>age</th>\n",
       "      <th>sex</th>\n",
       "      <th>bmi</th>\n",
       "      <th>children</th>\n",
       "      <th>smoker</th>\n",
       "      <th>region</th>\n",
       "      <th>charges</th>\n",
       "      <th>insuranceclaim</th>\n",
       "    </tr>\n",
       "  </thead>\n",
       "  <tbody>\n",
       "    <tr>\n",
       "      <th>0</th>\n",
       "      <td>19</td>\n",
       "      <td>0</td>\n",
       "      <td>27.900</td>\n",
       "      <td>0</td>\n",
       "      <td>1</td>\n",
       "      <td>3</td>\n",
       "      <td>16884.92400</td>\n",
       "      <td>1</td>\n",
       "    </tr>\n",
       "    <tr>\n",
       "      <th>1</th>\n",
       "      <td>18</td>\n",
       "      <td>1</td>\n",
       "      <td>33.770</td>\n",
       "      <td>1</td>\n",
       "      <td>0</td>\n",
       "      <td>2</td>\n",
       "      <td>1725.55230</td>\n",
       "      <td>1</td>\n",
       "    </tr>\n",
       "    <tr>\n",
       "      <th>2</th>\n",
       "      <td>28</td>\n",
       "      <td>1</td>\n",
       "      <td>33.000</td>\n",
       "      <td>3</td>\n",
       "      <td>0</td>\n",
       "      <td>2</td>\n",
       "      <td>4449.46200</td>\n",
       "      <td>0</td>\n",
       "    </tr>\n",
       "    <tr>\n",
       "      <th>3</th>\n",
       "      <td>33</td>\n",
       "      <td>1</td>\n",
       "      <td>22.705</td>\n",
       "      <td>0</td>\n",
       "      <td>0</td>\n",
       "      <td>1</td>\n",
       "      <td>21984.47061</td>\n",
       "      <td>0</td>\n",
       "    </tr>\n",
       "    <tr>\n",
       "      <th>4</th>\n",
       "      <td>32</td>\n",
       "      <td>1</td>\n",
       "      <td>28.880</td>\n",
       "      <td>0</td>\n",
       "      <td>0</td>\n",
       "      <td>1</td>\n",
       "      <td>3866.85520</td>\n",
       "      <td>1</td>\n",
       "    </tr>\n",
       "  </tbody>\n",
       "</table>\n",
       "</div>"
      ]
     },
     "execution_count": 5,
     "metadata": {},
     "output_type": "execute_result"
    }
   ],
   "execution_count": 5
  },
  {
   "cell_type": "markdown",
   "metadata": {},
   "source": [
    "__Q1:__ Plot the histogram of charges and calculate the mean and standard deviation. Comment on the appropriateness of these statistics for the data."
   ]
  },
  {
   "cell_type": "markdown",
   "metadata": {},
   "source": [
    "__A:__"
   ]
  },
  {
   "cell_type": "code",
   "metadata": {
    "ExecuteTime": {
     "end_time": "2024-12-27T17:52:58.063977Z",
     "start_time": "2024-12-27T17:52:57.886743Z"
    }
   },
   "source": [
    "# Plotting\n",
    "plt.hist(medical['charges'], bins='auto', alpha=0.7, rwidth=0.85)\n",
    "plt.xlabel('Charges')\n",
    "plt.ylabel('Frequency')\n",
    "plt.title('Histogram of Charges')\n",
    "plt.grid(axis='y', alpha=0.75)\n",
    "plt.show()\n"
   ],
   "outputs": [
    {
     "data": {
      "text/plain": [
       "<Figure size 640x480 with 1 Axes>"
      ],
      "image/png": "[encoded data removed]"
     },
     "metadata": {},
     "output_type": "display_data"
    }
   ],
   "execution_count": 6
  },
  {
   "cell_type": "code",
   "metadata": {
    "ExecuteTime": {
     "end_time": "2024-12-27T17:53:00.512302Z",
     "start_time": "2024-12-27T17:53:00.506773Z"
    }
   },
   "source": [
    "# Mean\n",
    "mean_charges = medical['charges'].mean()\n",
    "\n",
    "# Standard Deviation\n",
    "std_charges = medical['charges'].std()\n",
    "\n",
    "mean_charges, std_charges"
   ],
   "outputs": [
    {
     "data": {
      "text/plain": [
       "(np.float64(13270.422265141257), np.float64(12110.011236694001))"
      ]
     },
     "execution_count": 7,
     "metadata": {},
     "output_type": "execute_result"
    }
   ],
   "execution_count": 7
  },
  {
   "metadata": {},
   "cell_type": "markdown",
   "source": [
    "\n",
    "Comment:  The mean of the charges is 13270.42, and the std deviation is 12110.01. But looking at the histogram of the distribution of the charges is skewed to the right with along tail in the that direction. The mean would be greater than the median indicating influence of extreme outliers of charges. Using the median would be more appropriate for exploring central tendencies and the interquartile ranges would more appropriate for measures of spread instead of standard deviation. "
   ]
  },
  {
   "cell_type": "markdown",
   "metadata": {},
   "source": [
    "__Q2:__ The administrator is concerned that the actual average charge has fallen below 12,000, threatening the hospital's operational model. On the assumption that these data represent a random sample of charges, how would you justify that these data allow you to answer that question? And what would be the most appropriate frequentist test, of the ones discussed so far, to apply?"
   ]
  },
  {
   "cell_type": "markdown",
   "metadata": {},
   "source": "__A:__ With a random sample assumption, the mean of the sample should be representative of the larger sample, despite the skewness of the data. The t-test would be an appropriate frequentist test."
  },
  {
   "cell_type": "markdown",
   "metadata": {},
   "source": [
    "__Q3:__ Given the nature of the administrator's concern, what is the appropriate confidence interval in this case? A ***one-sided*** or ***two-sided*** interval? (Refresh your understanding of this concept on p. 399 of the *AoS*). Calculate the critical value and the relevant 95% confidence interval for the mean, and comment on whether the administrator should be concerned."
   ]
  },
  {
   "cell_type": "markdown",
   "metadata": {},
   "source": [
    "__A:__ Since the administrator is concerned with the average of the charging having fallen below 12,000 only, a on-sided t-test would be appropriate. The null hypothesis (H0) in a one-sided (right) test may be set-up as : The charges mean is below 12,000. The alternative hypothesis (Ha) would be : The mean of charges is equal to or more than 12,000.\n",
    "\n",
    "A 95% confidence interval may be appropriate, but a higher confidence interval of 99% may be chosen, if more confidence in the answer is required, such as ensuring more certain budgeting for the hospital. "
   ]
  },
  {
   "cell_type": "code",
   "metadata": {
    "ExecuteTime": {
     "end_time": "2024-12-27T17:53:22.047980Z",
     "start_time": "2024-12-27T17:53:22.042979Z"
    }
   },
   "source": [
    "# The null hypothesis: H0: μ < 12,000\n",
    "# a right-tailed test (H0: μ < 12,000 vs Ha: μ ≥ 12,000)\n",
    "\n",
    "# Calculate the right-tailed critical value\n",
    "critical_value_right = stats.t.ppf(0.95, df=len(medical['charges']) - 1)\n",
    "# Calculate the t-score\n",
    "t_score = (mean_charges - 12000) / (std_charges / np.sqrt(len(medical['charges'])))\n",
    "t_score\n",
    "print(t_score)\n",
    "p_value = stats.t.sf(t_score, df=len(medical['charges']) - 1)\n",
    "print(p_value)\n",
    "\n"
   ],
   "outputs": [
    {
     "name": "stdout",
     "output_type": "stream",
     "text": [
      "3.8373517196585323\n",
      "6.508582604643578e-05\n"
     ]
    }
   ],
   "execution_count": 8
  },
  {
   "metadata": {
    "ExecuteTime": {
     "end_time": "2024-12-27T17:53:31.196199Z",
     "start_time": "2024-12-27T17:53:30.979219Z"
    }
   },
   "cell_type": "code",
   "source": [
    "# The null hypothesis: H0: μ < 12,000\n",
    "# a right-tailed test (H0: μ < 12,000 vs Ha: μ ≥ 12,000)\n",
    "# Parameters for the test\n",
    "test_value = 12000  # Hypothesized mean\n",
    "\n",
    "# Calculate the sample mean and standard error of the mean\n",
    "mean_charges = medical['charges'].mean()\n",
    "std_error = medical['charges'].std(ddof=1) / (len(medical['charges']) ** 0.5)\n",
    "\n",
    "# Perform the one-sample t-test\n",
    "t_statistic, p_value = stats.ttest_1samp(medical['charges'], test_value)\n",
    "\n",
    "# Calculate the critical value for a one-tailed right-sided test (95% confidence level)\n",
    "critical_value_right = stats.t.ppf(0.95, df=len(medical['charges']) - 1)\n",
    "\n",
    "# Calculate the one-sided confidence interval upper bound\n",
    "upper_bound_right_tailed = mean_charges + critical_value_right * std_error\n",
    "\n",
    "# Generate data for the t-distribution and plot the probability graph\n",
    "x = np.linspace(-4, 4, 1000)\n",
    "t_dist = stats.t.pdf(x, df=len(medical['charges']) - 1)\n",
    "\n",
    "plt.figure(figsize=(10, 6))\n",
    "plt.plot(x, t_dist, label='t-Distribution')\n",
    "plt.fill_between(x, t_dist, 0, where=(x >= critical_value_right), color='red', alpha=0.5, label='Critical Region (Reject $H_0$)')\n",
    "plt.axvline(0, color='black', linestyle='--', label='Mean under $H_0$')\n",
    "plt.axvline((mean_charges - test_value) / std_error, color='blue', linestyle='--', label='Observed t-Statistic')\n",
    "plt.title('t-Distribution with Critical Region (Right-Tailed Test)')\n",
    "plt.xlabel('t-Statistic')\n",
    "plt.ylabel('Density')\n",
    "plt.legend()\n",
    "plt.show()\n",
    "\n"
   ],
   "outputs": [
    {
     "data": {
      "text/plain": [
       "<Figure size 1000x600 with 1 Axes>"
      ],
      "image/png": "[encoded data removed]"
     },
     "metadata": {},
     "output_type": "display_data"
    }
   ],
   "execution_count": 9
  },
  {
   "metadata": {
    "ExecuteTime": {
     "end_time": "2024-12-27T17:53:37.330597Z",
     "start_time": "2024-12-27T17:53:37.326289Z"
    }
   },
   "cell_type": "code",
   "source": [
    "# Print results\n",
    "print(\"One-Sample t-Test Results (Right-Tailed):\")\n",
    "print(f\"Test Value (Hypothesized Mean): {test_value}\")\n",
    "print(f\"Sample Mean: {mean_charges:.2f}\")\n",
    "print(f\"Standard Error of the Mean: {std_error:.2f}\")\n",
    "print(f\"t-Statistic: {t_statistic:.2f}\")\n",
    "print(f\"p-Value: {p_value:.5f}\")\n",
    "print(f\"Critical Value (Right-Tailed, 95%): {critical_value_right:.2f}\")\n",
    "print(f\"One-Sided 95% Confidence Interval Upper Bound: {upper_bound_right_tailed:.2f}\")"
   ],
   "outputs": [
    {
     "name": "stdout",
     "output_type": "stream",
     "text": [
      "One-Sample t-Test Results (Right-Tailed):\n",
      "Test Value (Hypothesized Mean): 12000\n",
      "Sample Mean: 13270.42\n",
      "Standard Error of the Mean: 331.07\n",
      "t-Statistic: 3.84\n",
      "p-Value: 0.00013\n",
      "Critical Value (Right-Tailed, 95%): 1.65\n",
      "One-Sided 95% Confidence Interval Upper Bound: 13815.36\n"
     ]
    }
   ],
   "execution_count": 10
  },
  {
   "metadata": {},
   "cell_type": "markdown",
   "source": [
    "--A-- The administrator should confidently (with 95% confidence)conclude that the average charges are not below $12,000.\n",
    "Since the t-statistic (3.84) exceeds the critical value (1.65) and the p-value is extremely small, the null hypothesis (that the mean of our sample is less than 12000) is rejected."
   ]
  },
  {
   "cell_type": "markdown",
   "metadata": {},
   "source": [
    "The administrator then wants to know whether people with insurance really are charged a different amount to those without.\n",
    "\n",
    "__Q4:__ State the null and alternative hypothesis here. Use the _t_-test for the difference between means, where the pooled standard deviation of the two groups is given by:\n",
    "\\begin{equation}\n",
    "s_p = \\sqrt{\\frac{(n_0 - 1)s^2_0 + (n_1 - 1)s^2_1}{n_0 + n_1 - 2}}\n",
    "\\end{equation}\n",
    "\n",
    "and the *t*-test statistic is then given by:\n",
    "\n",
    "\\begin{equation}\n",
    "t = \\frac{\\bar{x}_0 - \\bar{x}_1}{s_p \\sqrt{1/n_0 + 1/n_1}}.\n",
    "\\end{equation}\n",
    "\n",
    "(If you need some reminding of the general definition of ***t-statistic***, check out the definition on p. 404 of *AoS*). \n",
    "\n",
    "What assumption about the variances of the two groups are we making here?"
   ]
  },
  {
   "cell_type": "markdown",
   "metadata": {},
   "source": [
    "__A:__\n",
    "Dividing the sample into 2 groups, with and without insurance:\n",
    "Group1: people with insurance = 1\n",
    "Group2: people without insurance = 0\n",
    "Null hypothesis: The mean charges are equal for both groups (mean_group_1 = mean_group_2)\n",
    "Alternative hypothesis: The mean charges are NOT equal for both groups (mean_group_1 not equal to mean_group_2)\n",
    "We assume variances between the two groups are not different.\n"
   ]
  },
  {
   "cell_type": "markdown",
   "metadata": {},
   "source": [
    "__Q5:__ Perform this hypothesis test both manually, using the above formulae, and then using the appropriate function from [scipy.stats](https://docs.scipy.org/doc/scipy/reference/stats.html#statistical-tests) (hint, you're looking for a function to perform a _t_-test on two independent samples). For the manual approach, calculate the value of the test statistic and then its probability (the p-value). Verify you get the same results from both."
   ]
  },
  {
   "cell_type": "markdown",
   "metadata": {},
   "source": [
    "__A:__ "
   ]
  },
  {
   "cell_type": "code",
   "metadata": {
    "ExecuteTime": {
     "end_time": "2024-12-27T17:53:55.919070Z",
     "start_time": "2024-12-27T17:53:55.913869Z"
    }
   },
   "source": [
    "# Separate the data into two groups based on insurance claim status\n",
    "group_with_insurance = medical[medical['insuranceclaim'] == 1]['charges']\n",
    "group_without_insurance = medical[medical['insuranceclaim'] == 0]['charges']\n",
    "\n",
    "# Calculate means, standard deviations, and sample sizes for both groups\n",
    "mean_with_insurance = group_with_insurance.mean()\n",
    "mean_without_insurance = group_without_insurance.mean()\n",
    "std_with_insurance = group_with_insurance.std(ddof=1)\n",
    "std_without_insurance = group_without_insurance.std(ddof=1)\n",
    "n_with_insurance = len(group_with_insurance)\n",
    "n_without_insurance = len(group_without_insurance)"
   ],
   "outputs": [],
   "execution_count": 11
  },
  {
   "metadata": {
    "ExecuteTime": {
     "end_time": "2024-12-27T17:53:57.572962Z",
     "start_time": "2024-12-27T17:53:57.569141Z"
    }
   },
   "cell_type": "code",
   "source": [
    "# Calculate the pooled standard deviation\n",
    "pooled_std = np.sqrt(\n",
    "    ((n_with_insurance - 1) * std_with_insurance**2 + (n_without_insurance - 1) * std_without_insurance**2) /\n",
    "    (n_with_insurance + n_without_insurance - 2)\n",
    ")"
   ],
   "outputs": [],
   "execution_count": 12
  },
  {
   "metadata": {
    "ExecuteTime": {
     "end_time": "2024-12-27T17:53:58.572563Z",
     "start_time": "2024-12-27T17:53:58.569176Z"
    }
   },
   "cell_type": "code",
   "source": [
    "# Calculate the t-statistic\n",
    "t_statistic = (mean_with_insurance - mean_without_insurance) / (\n",
    "    pooled_std * np.sqrt(1/n_with_insurance + 1/n_without_insurance)\n",
    ")"
   ],
   "outputs": [],
   "execution_count": 13
  },
  {
   "metadata": {
    "ExecuteTime": {
     "end_time": "2024-12-27T17:53:59.585053Z",
     "start_time": "2024-12-27T17:53:59.581844Z"
    }
   },
   "cell_type": "code",
   "source": [
    "# Calculate degrees of freedom and p-value\n",
    "df = n_with_insurance + n_without_insurance - 2\n",
    "p_value = 2 * (1 - stats.t.cdf(abs(t_statistic), df=df))  # Two-tailed test"
   ],
   "outputs": [],
   "execution_count": 14
  },
  {
   "metadata": {
    "ExecuteTime": {
     "end_time": "2024-12-27T17:54:00.993858Z",
     "start_time": "2024-12-27T17:54:00.988736Z"
    }
   },
   "cell_type": "code",
   "source": [
    "# Print results\n",
    "{\n",
    "    \"mean_with_insurance\": mean_with_insurance,\n",
    "    \"mean_without_insurance\": mean_without_insurance,\n",
    "    \"pooled_std\": pooled_std,\n",
    "    \"t_statistic\": t_statistic,\n",
    "    \"p_value\": p_value,\n",
    "    \"degrees_of_freedom\": df\n",
    "}"
   ],
   "outputs": [
    {
     "data": {
      "text/plain": [
       "{'mean_with_insurance': np.float64(16423.928276537677),\n",
       " 'mean_without_insurance': np.float64(8821.421892306305),\n",
       " 'pooled_std': np.float64(11520.034268775262),\n",
       " 't_statistic': np.float64(11.89329903087671),\n",
       " 'p_value': np.float64(0.0),\n",
       " 'degrees_of_freedom': 1336}"
      ]
     },
     "execution_count": 15,
     "metadata": {},
     "output_type": "execute_result"
    }
   ],
   "execution_count": 15
  },
  {
   "metadata": {},
   "cell_type": "markdown",
   "source": [
    "Results of manual calculation:\n",
    "'mean_with_insurance': 16423.928276537677,\n",
    "'mean_without_insurance': 8821.421892306305,\n",
    "'pooled_std': 11520.034268775262,\n",
    "'t_statistic': 11.89329903087671,\n",
    "'p_value': 0.0,\n",
    "'degrees_of_freedom': 1336}"
   ]
  },
  {
   "metadata": {},
   "cell_type": "markdown",
   "source": [
    "# Using scipy.stats\n",
    "\n"
   ]
  },
  {
   "metadata": {
    "ExecuteTime": {
     "end_time": "2024-12-27T17:54:07.356942Z",
     "start_time": "2024-12-27T17:54:07.350358Z"
    }
   },
   "cell_type": "code",
   "source": [
    "# Using scipy.stats for independent two-sample t-test (Welch's t-test by default)\n",
    "\n",
    "# Manual calculation (already performed above)\n",
    "manual_results = {\n",
    "    \"mean_with_insurance\": mean_with_insurance,\n",
    "    \"mean_without_insurance\": mean_without_insurance,\n",
    "    \"pooled_std\": pooled_std,\n",
    "    \"t_statistic\": t_statistic,\n",
    "    \"p_value\": p_value,\n",
    "    \"degrees_of_freedom\": df,\n",
    "}\n",
    "\n",
    "t_stat_scipy, p_value_scipy = stats.ttest_ind(\n",
    "    group_with_insurance, group_without_insurance, equal_var=True  # Specify pooled standard deviation\n",
    ")\n",
    "\n",
    "# Scipy function results\n",
    "scipy_results = {\n",
    "    \"t_statistic_scipy\": t_stat_scipy,\n",
    "    \"p_value_scipy\": p_value_scipy,\n",
    "}\n",
    "\n",
    "# Combine and display results for comparison\n",
    "{\n",
    "    \"manual_results\": manual_results,\n",
    "    \"scipy_results\": scipy_results,\n",
    "}\n"
   ],
   "outputs": [
    {
     "data": {
      "text/plain": [
       "{'manual_results': {'mean_with_insurance': np.float64(16423.928276537677),\n",
       "  'mean_without_insurance': np.float64(8821.421892306305),\n",
       "  'pooled_std': np.float64(11520.034268775262),\n",
       "  't_statistic': np.float64(11.89329903087671),\n",
       "  'p_value': np.float64(0.0),\n",
       "  'degrees_of_freedom': 1336},\n",
       " 'scipy_results': {'t_statistic_scipy': np.float64(11.893299030876712),\n",
       "  'p_value_scipy': np.float64(4.461230231620717e-31)}}"
      ]
     },
     "execution_count": 16,
     "metadata": {},
     "output_type": "execute_result"
    }
   ],
   "execution_count": 16
  },
  {
   "metadata": {},
   "cell_type": "markdown",
   "source": "The results from the manual calculation and the scipy.stats.ttest_ind function are consistent. The difference in charges means between the two groups, with insurance and without insurance, is different and statistically significant,and that the probability of this result occurring by chance is extremely small, near zero. Individuals with insurance are charged substantially more on average. "
  },
  {
   "cell_type": "markdown",
   "metadata": {},
   "source": [
    "Congratulations! Hopefully you got the exact same numerical results. This shows that you correctly calculated the numbers by hand. Secondly, you used the correct function and saw that it's much easier to use. All you need to do is pass your data to it."
   ]
  },
  {
   "cell_type": "markdown",
   "metadata": {},
   "source": [
    "__Q6:__ Conceptual question: look through the documentation for statistical test functions in scipy.stats. You'll see the above _t_-test for a sample, but can you see an equivalent one for performing a *z*-test from a sample? Comment on your answer."
   ]
  },
  {
   "cell_type": "markdown",
   "metadata": {},
   "source": [
    "__A:__ There is no single z-test function in the scipy documentation. One can calculate the zscore manually from the sample mean, the null hypothesis mean, the population std deviation and the sample size.\n",
    "The formula for the z-score is:\n",
    "\n",
    "\\begin{equation}\n",
    "z = \\frac{\\bar{X} - \\mu_0}{\\sigma / \\sqrt{n}}\n",
    "\\end{equation}\n",
    "\n",
    "Where:\n",
    "- \\( z \\): z-score\n",
    "- \\( \\bar{X} \\): Sample mean\n",
    "- \\( \\mu_0 \\): Hypothesized population mean\n",
    "- \\( \\sigma \\): Population standard deviation (assumed known)\n",
    "- \\( n \\): Sample size\n",
    "\n",
    "Then, one can use scipy.stats.norm.cdf() function to compute the p-value.\n",
    "\n",
    "Generally, the guidelines for using the z-test vs the t-test: \n",
    "- Use a **z-test** when:\n",
    "  - The population standard deviation is known.\n",
    "  - The sample size is large, eg  > 30 ).\n",
    "  - The population is approximately normal.\n",
    "\n",
    "- Use a **t-test** when:\n",
    "  - The population standard deviation is unknown.\n",
    "  - The sample size is small.\n",
    "\n",
    "Example:\n",
    "# Calculate sample statistics\n",
    "sample_mean = np.mean(sample)\n",
    "n = len(sample)\n",
    "\n",
    "# Calculate the z-score\n",
    "z_score = (sample_mean - Hypothesized population mean) / (Population standard deviation (known) / np.sqrt(n))\n",
    "\n",
    "# Calculate the p-value for a two-tailed test\n",
    "p_value = 2 * (1 - norm.cdf(abs(z_score)))\n",
    "\n",
    "\\\n",
    "\\\n",
    "In most statistical analyses, the std deviation is not known for the population and the t-test is used."
   ]
  },
  {
   "cell_type": "markdown",
   "metadata": {},
   "source": [
    "## Learning outcomes"
   ]
  },
  {
   "cell_type": "markdown",
   "metadata": {},
   "source": [
    "Having completed this project notebook, you now have good hands-on experience:\n",
    "* using the central limit theorem to help you apply frequentist techniques to answer questions that pertain to very non-normally distributed data from the real world\n",
    "* performing inference using such data to answer business questions\n",
    "* forming a hypothesis and framing the null and alternative hypotheses\n",
    "* testing this using a _t_-test"
   ]
  },
  {
   "metadata": {},
   "cell_type": "code",
   "outputs": [],
   "execution_count": null,
   "source": ""
  }
 ],
 "metadata": {
  "kernelspec": {
   "display_name": "Python 3",
   "language": "python",
   "name": "python3"
  },
  "language_info": {
   "codemirror_mode": {
    "name": "ipython",
    "version": 3
   },
   "file_extension": ".py",
   "mimetype": "text/x-python",
   "name": "python",
   "nbconvert_exporter": "python",
   "pygments_lexer": "ipython3",
   "version": "3.7.3"
  }
 },
 "nbformat": 4,
 "nbformat_minor": 2
}
